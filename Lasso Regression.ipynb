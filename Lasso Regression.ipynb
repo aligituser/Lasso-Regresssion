{
 "cells": [
  {
   "cell_type": "code",
   "execution_count": null,
   "id": "2062bd48",
   "metadata": {},
   "outputs": [],
   "source": [
    "import numpy as np"
   ]
  },
  {
   "cell_type": "code",
   "execution_count": null,
   "id": "ea3415f4",
   "metadata": {},
   "outputs": [],
   "source": [
    "# creating a class for Lasso Regression\n",
    "\n",
    "class Lasso_Regression():\n",
    "\n",
    "  #initiating the hyperparameters\n",
    "  def __init__(self, learning_rate, no_of_iterations, lambda_parameter):\n",
    "\n",
    "    self.learning_rate = learning_rate\n",
    "    self.no_of_iterations = no_of_iterations\n",
    "    self.lambda_parameter = lambda_parameter\n",
    "\n",
    "\n",
    "  # fitting the dataset to the Lasso Regression model\n",
    "  def fit(self, X, Y):\n",
    "\n",
    "    # m --> number of Data points --> number of rows\n",
    "    # n --> number of input features --> number of columns\n",
    "    self.m, self.n = X.shape\n",
    "\n",
    "    self.w = np.zeros(self.n)\n",
    "\n",
    "    self.b = 0\n",
    "\n",
    "    self.X = X\n",
    "\n",
    "    self.Y = Y\n",
    "\n",
    "    # implementing Gradient Descent algorithm for Optimization\n",
    "\n",
    "    for i in range(no_of_iterations):\n",
    "      self.upadte_weights()\n",
    "\n",
    "\n",
    "  # function for updating the weight & bias value\n",
    "  def upadte_weights(self):\n",
    "\n",
    "    # linear equation of the model\n",
    "    Y_prediction = self.predict(self.X)\n",
    "\n",
    "    # gradients (dw, db)\n",
    "\n",
    "    # gradient for weight\n",
    "    dw = np.zeros(self.n)\n",
    "\n",
    "    for i in range(self.n):\n",
    "\n",
    "      if self.w[i]>0:\n",
    "\n",
    "        dw[i] = (-(2*(self.X[:,i]).dot(self.Y - Y_prediction)) + self.lambda_parameter) / self.m \n",
    "\n",
    "      else :\n",
    "\n",
    "        dw[i] = (-(2*(self.X[:,i]).dot(self.Y - Y_prediction)) - self.lambda_parameter) / self.m\n",
    "\n",
    "\n",
    "    # gradient for bias\n",
    "    db = - 2 * np.sum(self.Y - Y_prediction) / self.m\n",
    "\n",
    "\n",
    "    # updating the weights & bias\n",
    "\n",
    "    self.w = self.w - self.learning_rate*dw\n",
    "    self.b = self.b - self.learning_rate*db\n",
    "\n",
    "    \n",
    "\n",
    "\n",
    "  # Predicting the Target variable\n",
    "  def predict(self,X):\n",
    "\n",
    "    return X.dot(self.w) + self.b"
   ]
  },
  {
   "cell_type": "code",
   "execution_count": null,
   "id": "c2b6c179",
   "metadata": {},
   "outputs": [],
   "source": []
  },
  {
   "cell_type": "code",
   "execution_count": null,
   "id": "de616219",
   "metadata": {},
   "outputs": [],
   "source": []
  },
  {
   "cell_type": "code",
   "execution_count": null,
   "id": "199608b5",
   "metadata": {},
   "outputs": [],
   "source": [
    "Lasso Regression\n",
    "Y=wX+b\n",
    "Y -> Dependent variable\n",
    "X -> Indepent Variable\n",
    "w -> weight\n",
    "b -> bias"
   ]
  },
  {
   "cell_type": "code",
   "execution_count": null,
   "id": "23fbde8c",
   "metadata": {},
   "outputs": [],
   "source": [
    "Gradient Descent:\n",
    "w = w - α*dw\n",
    "b = b - α*db"
   ]
  },
  {
   "cell_type": "code",
   "execution_count": null,
   "id": "d9742442",
   "metadata": {},
   "outputs": [],
   "source": []
  },
  {
   "cell_type": "code",
   "execution_count": null,
   "id": "cf2b2dde",
   "metadata": {},
   "outputs": [],
   "source": []
  }
 ],
 "metadata": {
  "kernelspec": {
   "display_name": "Python 3 (ipykernel)",
   "language": "python",
   "name": "python3"
  },
  "language_info": {
   "codemirror_mode": {
    "name": "ipython",
    "version": 3
   },
   "file_extension": ".py",
   "mimetype": "text/x-python",
   "name": "python",
   "nbconvert_exporter": "python",
   "pygments_lexer": "ipython3",
   "version": "3.9.12"
  }
 },
 "nbformat": 4,
 "nbformat_minor": 5
}

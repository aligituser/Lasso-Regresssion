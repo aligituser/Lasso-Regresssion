{
 "cells": [
  {
   "cell_type": "code",
   "execution_count": 80,
   "id": "f55c9c18",
   "metadata": {},
   "outputs": [],
   "source": [
    "import numpy as np\n",
    "import pandas as pd\n",
    "from sklearn.model_selection import train_test_split\n",
    "from sklearn.metrics import r2_score"
   ]
  },
  {
   "cell_type": "code",
   "execution_count": 81,
   "id": "e2d79e28",
   "metadata": {},
   "outputs": [],
   "source": [
    "import numpy as np\n",
    "import pandas as pd\n",
    "from sklearn.model_selection import train_test_split\n",
    "from sklearn.metrics import r2_score\n",
    "\n",
    "\n",
    "class LassoRegression:\n",
    "    def __init__(self, alpha=0.01, max_iter=10000, tol=10):\n",
    "        self.alpha = alpha\n",
    "        self.max_iter = max_iter\n",
    "        self.tol = tol\n",
    "        \n",
    "    def fit(self, X, y):\n",
    "        n_samples, n_features = X.shape\n",
    "        self.coef_ = np.zeros(n_features)\n",
    "        self.intercept_ = np.mean(y)\n",
    "        \n",
    "        for iteration in range(self.max_iter):\n",
    "            for j in range(n_features):\n",
    "                X_j = X[:, j]\n",
    "                y_pred = self.predict(X)\n",
    "                r = y - y_pred + self.coef_[j] * X_j\n",
    "                z = np.dot(X_j, X_j)\n",
    "                self.coef_[j] = self._soft_thresholding_operator(np.dot(X_j, r) / z, self.alpha / z)\n",
    "                \n",
    "            y_pred = self.predict(X)\n",
    "            residual = y - y_pred\n",
    "            RSS = np.dot(residual, residual)\n",
    "            if iteration > 0 and abs(RSS - RSS_old) < self.tol:\n",
    "                break\n",
    "            RSS_old = RSS\n",
    "            \n",
    "    def predict(self, X):\n",
    "        return np.dot(X, self.coef_) + self.intercept_\n",
    "    \n",
    "    def _soft_thresholding_operator(self, x, lambda_):\n",
    "        if x > 0 and lambda_ < abs(x):\n",
    "            return x - lambda_\n",
    "        elif x < 0 and lambda_ < abs(x):\n",
    "            return x + lambda_\n",
    "        else:\n",
    "            return 0\n",
    "    \n",
    "def dataset(path):\n",
    "    df = pd.read_csv(path)\n",
    "    X = df.iloc[:, :-1].values\n",
    "    y = df.iloc[:, -1].values\n",
    "    return X, y"
   ]
  },
  {
   "cell_type": "code",
   "execution_count": 82,
   "id": "207eb324",
   "metadata": {},
   "outputs": [],
   "source": [
    "# Load your dataset\n",
    "X, y = dataset(r\"C:\\Users\\Alisha DJ\\Downloads\\Boston (1).csv\")\n",
    "\n",
    "# Split the dataset into training and testing sets\n",
    "train_size = 0.8\n",
    "X_train, X_test, y_train, y_test = train_test_split(X, y, train_size=train_size, random_state=42)"
   ]
  },
  {
   "cell_type": "code",
   "execution_count": 92,
   "id": "333f3392",
   "metadata": {},
   "outputs": [],
   "source": [
    "# Hyperparameter tuning\n",
    "\n",
    "alphas = [0.01, 0.1, 1.0, 10.0, 100.0]\n",
    "max_iters = [100, 500, 1000, 5000]\n",
    "tols = [0.0001, 0.001, 0.01, 0.1]\n",
    "best_r2 = 0\n",
    "best_params = None  \n",
    "best_max_iter = None\n",
    "\n",
    "for alpha in alphas:\n",
    "    for tol in tols:\n",
    "        for max_iter in max_iters:\n",
    "            lasso = LassoRegression(alpha=alpha, tol=tol, max_iter= max_iter)\n",
    "            lasso.fit(X_train, y_train)\n",
    "            y_pred = lasso.predict(X_test)\n",
    "            r2 = r2_score(y_test, y_pred)\n",
    "            if r2 > best_r2:\n",
    "                best_r2 = r2\n",
    "                best_params = {'alpha': alpha, 'tol': tol, 'max_iter': max_iter}\n",
    "            \n",
    "\n",
    "\n",
    "# Train the model with best hyperparameters\n",
    "lasso = LassoRegression(alpha=best_params['alpha'], tol=best_params['tol'], max_iter=best_params['max_iter'])\n",
    "lasso.fit(X_train, y_train)"
   ]
  },
  {
   "cell_type": "code",
   "execution_count": 91,
   "id": "7f28eac8",
   "metadata": {},
   "outputs": [
    {
     "name": "stdout",
     "output_type": "stream",
     "text": [
      "R2 score: 0.6629276562264362\n",
      "Best hyperparameters: {'alpha': 10.0, 'tol': 0.0001, 'max_iter': 1000}\n",
      "best iter value: None\n"
     ]
    }
   ],
   "source": [
    "# Evaluate the model\n",
    "y_pred = lasso.predict(X_test)\n",
    "r2 = r2_score(y_test, y_pred)\n",
    "print(\"R2 score:\", r2)\n",
    "print(\"Best hyperparameters:\", best_params)\n",
    "print(\"best iter value:\", best_iter)\n"
   ]
  },
  {
   "cell_type": "code",
   "execution_count": null,
   "id": "b9009875",
   "metadata": {},
   "outputs": [],
   "source": []
  },
  {
   "cell_type": "code",
   "execution_count": null,
   "id": "083b5ad8",
   "metadata": {},
   "outputs": [],
   "source": []
  },
  {
   "cell_type": "code",
   "execution_count": null,
   "id": "5fcbd512",
   "metadata": {},
   "outputs": [],
   "source": []
  },
  {
   "cell_type": "code",
   "execution_count": null,
   "id": "f0241d28",
   "metadata": {},
   "outputs": [],
   "source": []
  },
  {
   "cell_type": "code",
   "execution_count": 24,
   "id": "8c39f49d",
   "metadata": {},
   "outputs": [],
   "source": [
    "alphas = [0.01, 0.1, 1.0, 10.0, 100.0]\n",
    "max_iters = [100, 500, 1000, 5000]\n",
    "tols = [0.0001, 0.001, 0.01, 0.1]"
   ]
  },
  {
   "cell_type": "code",
   "execution_count": 6,
   "id": "61b2e3f4",
   "metadata": {},
   "outputs": [],
   "source": [
    "alphas = np.logspace(-3, 3, 7) # Range of alpha values to try\n",
    "tolerances = np.logspace(-5, -3, 3) # Range of tolerance values to try"
   ]
  },
  {
   "cell_type": "code",
   "execution_count": null,
   "id": "ccaf86ac",
   "metadata": {},
   "outputs": [],
   "source": []
  }
 ],
 "metadata": {
  "kernelspec": {
   "display_name": "Python 3 (ipykernel)",
   "language": "python",
   "name": "python3"
  },
  "language_info": {
   "codemirror_mode": {
    "name": "ipython",
    "version": 3
   },
   "file_extension": ".py",
   "mimetype": "text/x-python",
   "name": "python",
   "nbconvert_exporter": "python",
   "pygments_lexer": "ipython3",
   "version": "3.9.12"
  }
 },
 "nbformat": 4,
 "nbformat_minor": 5
}

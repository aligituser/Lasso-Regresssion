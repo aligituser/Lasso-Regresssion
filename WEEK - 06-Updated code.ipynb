{
 "cells": [
  {
   "cell_type": "code",
   "execution_count": 16,
   "id": "f55c9c18",
   "metadata": {},
   "outputs": [],
   "source": [
    "import numpy as np\n",
    "import pandas as pd\n",
    "from sklearn.model_selection import train_test_split\n",
    "from sklearn.metrics import r2_score"
   ]
  },
  {
   "cell_type": "code",
   "execution_count": 17,
   "id": "e2d79e28",
   "metadata": {},
   "outputs": [],
   "source": [
    "class LassoRegression:\n",
    "    def __init__(self, alpha=0.01, max_iter=10000, tol=10):\n",
    "        self.alpha = alpha\n",
    "        self.max_iter = max_iter\n",
    "        self.tol = tol\n",
    "        \n",
    "    def fit(self, X, y):\n",
    "        n_samples, n_features = X.shape\n",
    "        self.coef_ = np.zeros(n_features)\n",
    "        self.intercept_ = np.mean(y)\n",
    "        \n",
    "        for iteration in range(self.max_iter):\n",
    "            for j in range(n_features):\n",
    "                X_j = X[:, j]\n",
    "                y_pred = self.predict(X)\n",
    "                r = y - y_pred + self.coef_[j] * X_j\n",
    "                z = np.dot(X_j, X_j)\n",
    "                self.coef_[j] = self._soft_thresholding_operator(np.dot(X_j, r) / z, self.alpha / z)\n",
    "                \n",
    "            y_pred = self.predict(X)\n",
    "            residual = y - y_pred\n",
    "            RSS = np.dot(residual, residual)\n",
    "            if iteration > 0 and abs(RSS - RSS_old) < self.tol:\n",
    "                break\n",
    "            RSS_old = RSS\n",
    "            \n",
    "    def predict(self, X):\n",
    "        return np.dot(X, self.coef_) + self.intercept_\n",
    "    \n",
    "    def _soft_thresholding_operator(self, x, lambda_):\n",
    "        if x > 0 and lambda_ < abs(x):\n",
    "            return x - lambda_\n",
    "        elif x < 0 and lambda_ < abs(x):\n",
    "            return x + lambda_\n",
    "        else:\n",
    "            return 0\n",
    "    \n",
    "def dataset(path):\n",
    "    df = pd.read_csv(r\"C:\\Users\\Alisha DJ\\Downloads\\Boston (1).csv\")\n",
    "    X = df.iloc[:, :-1].values\n",
    "    y = df.iloc[:, -1].values\n",
    "    return X, y"
   ]
  },
  {
   "cell_type": "code",
   "execution_count": 18,
   "id": "a400e034",
   "metadata": {},
   "outputs": [],
   "source": [
    "df = pd.read_csv(r\"C:\\Users\\Alisha DJ\\Downloads\\Boston (1).csv\")"
   ]
  },
  {
   "cell_type": "code",
   "execution_count": 19,
   "id": "207eb324",
   "metadata": {},
   "outputs": [],
   "source": [
    "# Load your dataset\n",
    "X, y = dataset(r\"C:\\Users\\Alisha DJ\\Downloads\\Boston (1).csv\")\n",
    "\n",
    "# Split the dataset into training and testing sets\n",
    "train_size = 0.8\n",
    "X_train, X_test, y_train, y_test = train_test_split(X, y, train_size=train_size, random_state=42)"
   ]
  },
  {
   "cell_type": "markdown",
   "id": "5a101960",
   "metadata": {},
   "source": [
    "# HYPERPARAMETER TUNING"
   ]
  },
  {
   "cell_type": "code",
   "execution_count": 20,
   "id": "333f3392",
   "metadata": {},
   "outputs": [],
   "source": [
    "# Hyperparameter tuning\n",
    "\n",
    "alphas = [0.01, 0.1, 1.0, 10.0, 100.0]\n",
    "max_iters = [100, 500, 1000, 5000]\n",
    "tols = [0.0001, 0.001, 0.01, 0.1]\n",
    "best_r2 = 0\n",
    "best_params = None  \n",
    "\n",
    "for alpha in alphas:\n",
    "    for tol in tols:\n",
    "        for max_iter in max_iters:\n",
    "            lasso = LassoRegression(alpha=alpha, tol=tol, max_iter= max_iter)\n",
    "            lasso.fit(X_train, y_train)\n",
    "            y_pred = lasso.predict(X_test)\n",
    "            r2 = r2_score(y_test, y_pred)\n",
    "            if r2 > best_r2:\n",
    "                best_r2 = r2\n",
    "                best_params = {'alpha': alpha, 'tol': tol, 'max_iter': max_iter}\n",
    "            \n",
    "\n",
    "\n",
    "# Train the model with best hyperparameters\n",
    "lasso = LassoRegression(alpha=best_params['alpha'], tol=best_params['tol'], max_iter=best_params['max_iter'])\n",
    "lasso.fit(X_train, y_train)"
   ]
  },
  {
   "cell_type": "code",
   "execution_count": 21,
   "id": "7f28eac8",
   "metadata": {
    "scrolled": true
   },
   "outputs": [
    {
     "name": "stdout",
     "output_type": "stream",
     "text": [
      "R2 score: 0.6629276562264362\n",
      "Best hyperparameters: {'alpha': 10.0, 'tol': 0.0001, 'max_iter': 1000}\n"
     ]
    }
   ],
   "source": [
    "# Evaluate the model\n",
    "y_pred = lasso.predict(X_test)\n",
    "r2 = r2_score(y_test, y_pred)\n",
    "print(\"R2 score:\", r2)\n",
    "print(\"Best hyperparameters:\", best_params)\n",
    "\n"
   ]
  },
  {
   "cell_type": "code",
   "execution_count": null,
   "id": "0598ab3f",
   "metadata": {},
   "outputs": [],
   "source": []
  },
  {
   "cell_type": "markdown",
   "id": "a175324b",
   "metadata": {},
   "source": [
    "# Using sklearn"
   ]
  },
  {
   "cell_type": "code",
   "execution_count": 22,
   "id": "8c594471",
   "metadata": {
    "scrolled": true
   },
   "outputs": [
    {
     "name": "stderr",
     "output_type": "stream",
     "text": [
      "C:\\Users\\Alisha DJ\\anaconda3\\lib\\site-packages\\sklearn\\utils\\deprecation.py:87: FutureWarning: Function load_boston is deprecated; `load_boston` is deprecated in 1.0 and will be removed in 1.2.\n",
      "\n",
      "    The Boston housing prices dataset has an ethical problem. You can refer to\n",
      "    the documentation of this function for further details.\n",
      "\n",
      "    The scikit-learn maintainers therefore strongly discourage the use of this\n",
      "    dataset unless the purpose of the code is to study and educate about\n",
      "    ethical issues in data science and machine learning.\n",
      "\n",
      "    In this special case, you can fetch the dataset from the original\n",
      "    source::\n",
      "\n",
      "        import pandas as pd\n",
      "        import numpy as np\n",
      "\n",
      "        data_url = \"http://lib.stat.cmu.edu/datasets/boston\"\n",
      "        raw_df = pd.read_csv(data_url, sep=\"\\s+\", skiprows=22, header=None)\n",
      "        data = np.hstack([raw_df.values[::2, :], raw_df.values[1::2, :2]])\n",
      "        target = raw_df.values[1::2, 2]\n",
      "\n",
      "    Alternative datasets include the California housing dataset (i.e.\n",
      "    :func:`~sklearn.datasets.fetch_california_housing`) and the Ames housing\n",
      "    dataset. You can load the datasets as follows::\n",
      "\n",
      "        from sklearn.datasets import fetch_california_housing\n",
      "        housing = fetch_california_housing()\n",
      "\n",
      "    for the California housing dataset and::\n",
      "\n",
      "        from sklearn.datasets import fetch_openml\n",
      "        housing = fetch_openml(name=\"house_prices\", as_frame=True)\n",
      "\n",
      "    for the Ames housing dataset.\n",
      "  warnings.warn(msg, category=FutureWarning)\n"
     ]
    }
   ],
   "source": [
    "import pandas as pd\n",
    "import numpy as np\n",
    "import matplotlib.pyplot as plt\n",
    "import seaborn as sns\n",
    "from sklearn.datasets import load_boston\n",
    "\n",
    "boston = load_boston()\n",
    "data = pd.DataFrame(boston.data, columns=boston.feature_names)\n",
    "data['MEDV'] = boston.target\n"
   ]
  },
  {
   "cell_type": "code",
   "execution_count": 23,
   "id": "84e7d5e7",
   "metadata": {},
   "outputs": [],
   "source": [
    "from sklearn.model_selection import train_test_split\n",
    "from sklearn.linear_model import LinearRegression\n",
    "from sklearn.metrics import r2_score"
   ]
  },
  {
   "cell_type": "code",
   "execution_count": 24,
   "id": "8e0944c4",
   "metadata": {},
   "outputs": [
    {
     "name": "stdout",
     "output_type": "stream",
     "text": [
      "R2 score: 0.7763006990231972\n"
     ]
    }
   ],
   "source": [
    "# Create new feature RM_LSTAT\n",
    "data['RM_LSTAT'] = data['RM'] * data['LSTAT']\n",
    "\n",
    "# Split data into train and test sets\n",
    "X_train, X_test, y_train, y_test = train_test_split(data.drop('MEDV', axis=1), data['MEDV'], test_size=0.2, random_state=42)\n",
    "\n",
    "# Fit linear regression model to the training data\n",
    "reg = LinearRegression()\n",
    "reg.fit(X_train, y_train)\n",
    "\n",
    "# Predict on the testing data\n",
    "y_pred = reg.predict(X_test)\n",
    "\n",
    "# Calculate the R2 score\n",
    "r2 = r2_score(y_test, y_pred)\n",
    "\n",
    "print(\"R2 score:\", r2)\n"
   ]
  },
  {
   "cell_type": "markdown",
   "id": "4cb7c88f",
   "metadata": {},
   "source": [
    "# VIZUALIZATION"
   ]
  },
  {
   "cell_type": "code",
   "execution_count": 25,
   "id": "55106f82",
   "metadata": {},
   "outputs": [
    {
     "data": {
      "image/png": "[encoded data removed]",
      "text/plain": [
       "<Figure size 432x288 with 1 Axes>"
      ]
     },
     "metadata": {
      "needs_background": "light"
     },
     "output_type": "display_data"
    }
   ],
   "source": [
    "import matplotlib.pyplot as plt\n",
    "\n",
    "# Define the values for the bars\n",
    "no_hyperparam = 0.423\n",
    "hyperparam_tuned = 0.6229\n",
    "sklearn = 0.75\n",
    "\n",
    "# Create the bar plot\n",
    "plt.bar([\"No Hyperparameter\", \"Hyperparameter tuned\", \"Sklearn\"], [no_hyperparam, hyperparam_tuned, sklearn])\n",
    "\n",
    "# Add annotations to the bars\n",
    "plt.text(0, no_hyperparam + 0.01, str(no_hyperparam))\n",
    "plt.text(1, hyperparam_tuned + 0.01, str(hyperparam_tuned))\n",
    "plt.text(2, sklearn + 0.01, str(sklearn))\n",
    "\n",
    "# Set the y-axis limits\n",
    "plt.ylim(0, 0.9)\n",
    "\n",
    "# Add labels to the plot\n",
    "plt.xlabel(\"Models\")\n",
    "plt.ylabel(\"R-squared score\")\n",
    "plt.title(\"Comparison of model R-squared scores\")\n",
    "\n",
    "# Display the plot\n",
    "plt.show()\n"
   ]
  },
  {
   "cell_type": "code",
   "execution_count": null,
   "id": "3f0581c3",
   "metadata": {},
   "outputs": [],
   "source": []
  },
  {
   "cell_type": "code",
   "execution_count": null,
   "id": "58c3594d",
   "metadata": {},
   "outputs": [],
   "source": []
  }
 ],
 "metadata": {
  "kernelspec": {
   "display_name": "Python 3 (ipykernel)",
   "language": "python",
   "name": "python3"
  },
  "language_info": {
   "codemirror_mode": {
    "name": "ipython",
    "version": 3
   },
   "file_extension": ".py",
   "mimetype": "text/x-python",
   "name": "python",
   "nbconvert_exporter": "python",
   "pygments_lexer": "ipython3",
   "version": "3.9.12"
  }
 },
 "nbformat": 4,
 "nbformat_minor": 5
}
